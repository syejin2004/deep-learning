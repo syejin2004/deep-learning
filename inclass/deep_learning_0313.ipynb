{
  "nbformat": 4,
  "nbformat_minor": 0,
  "metadata": {
    "colab": {
      "provenance": [],
      "authorship_tag": "ABX9TyO+GfQ3EVT8ICh3DX3NhmEL",
      "include_colab_link": true
    },
    "kernelspec": {
      "name": "python3",
      "display_name": "Python 3"
    },
    "language_info": {
      "name": "python"
    }
  },
  "cells": [
    {
      "cell_type": "markdown",
      "metadata": {
        "id": "view-in-github",
        "colab_type": "text"
      },
      "source": [
        "<a href=\"https://colab.research.google.com/github/syejin2004/deep-learning/blob/main/inclass/deep_learning_0313.ipynb\" target=\"_parent\"><img src=\"https://colab.research.google.com/assets/colab-badge.svg\" alt=\"Open In Colab\"/></a>"
      ]
    },
    {
      "cell_type": "markdown",
      "source": [
        "## 딥러닝 프로그래밍 실습"
      ],
      "metadata": {
        "id": "_RkRo-R4oCtf"
      }
    },
    {
      "cell_type": "markdown",
      "source": [
        "### 일차원 배열"
      ],
      "metadata": {
        "id": "AzAJbNc5owNS"
      }
    },
    {
      "cell_type": "code",
      "execution_count": 4,
      "metadata": {
        "colab": {
          "base_uri": "https://localhost:8080/"
        },
        "id": "dZmofYLpjbXF",
        "outputId": "52b4864c-18ef-4e8b-afd3-644093491818"
      },
      "outputs": [
        {
          "output_type": "stream",
          "name": "stdout",
          "text": [
            "[4 5 6]\n"
          ]
        }
      ],
      "source": [
        "import tensorflow.compat.v1 as tf\n",
        "tf.disable_v2_behavior()\n",
        "\n",
        "a = tf.placeholder(tf.int32, shape=[3])\n",
        "b = tf.Variable(3)\n",
        "c = tf.add(a,b)\n",
        "\n",
        "init = tf.global_variables_initializer()\n",
        "\n",
        "with tf.compat.v1.Session() as sess:\n",
        "  sess.run(init)\n",
        "  print(sess.run(c, {a: [1, 2, 3]}))"
      ]
    },
    {
      "cell_type": "markdown",
      "source": [
        "### 다차원 배열"
      ],
      "metadata": {
        "id": "SanvVr9IoyNZ"
      }
    },
    {
      "cell_type": "code",
      "source": [
        "import tensorflow.compat.v1 as tf\n",
        "tf.disable_v2_behavior()\n",
        "\n",
        "a = tf.placeholder(tf.int32)\n",
        "b = tf.placeholder(tf.int32)\n",
        "c = tf.multiply(a,b)\n",
        "\n",
        "init = tf.global_variables_initializer()\n",
        "\n",
        "with tf.compat.v1.Session() as sess:\n",
        "  sess.run(init)\n",
        "  print(sess.run(c, {a: [[1, 2, 3], [1, 2, 3]], b: [[5, 2, 3], [1, 2, 3]]}))"
      ],
      "metadata": {
        "colab": {
          "base_uri": "https://localhost:8080/"
        },
        "id": "vpkdwJE6qrQE",
        "outputId": "ec342e0b-3318-455b-f59d-cdeaa52594ba"
      },
      "execution_count": 13,
      "outputs": [
        {
          "output_type": "stream",
          "name": "stdout",
          "text": [
            "[[5 4 9]\n",
            " [1 4 9]]\n"
          ]
        }
      ]
    },
    {
      "cell_type": "code",
      "source": [
        "import tensorflow.compat.v1 as tf\n",
        "tf.disable_v2_behavior()\n",
        "\n",
        "a = tf.placeholder(tf.int32)\n",
        "b = tf.placeholder(tf.int32)\n",
        "c = tf.add(a, b)\n",
        "d = tf.subtract(a, b)\n",
        "e = tf.multiply(a,b)\n",
        "f = tf.mod(a, b)\n",
        "\n",
        "\n",
        "init = tf.global_variables_initializer()\n",
        "\n",
        "with tf.compat.v1.Session() as sess:\n",
        "  sess.run(init)\n",
        "  print('Plus =>', sess.run(c, {a: [[1, 2, 3], [1, 2, 3]], b: [[5, 2, 3], [1, 2, 3]]}))\n",
        "  print('Mnius =>',sess.run(d, {a: [[1, 2, 3], [1, 2, 3]], b: [[5, 2, 3], [1, 2, 3]]}))\n",
        "  print('Mutiply =>',sess.run(e, {a: [[1, 2, 3], [1, 2, 3]], b: [[5, 2, 3], [1, 2, 3]]}))\n",
        "  print('Div =>',sess.run(f, {a: [[1, 2, 3], [1, 2, 3]], b: [[5, 2, 3], [1, 2, 3]]}))"
      ],
      "metadata": {
        "colab": {
          "base_uri": "https://localhost:8080/"
        },
        "id": "j19xQwNZsdND",
        "outputId": "e7d4ac1d-0b78-497c-c8ac-c2d5e7cc0c2c"
      },
      "execution_count": 28,
      "outputs": [
        {
          "output_type": "stream",
          "name": "stdout",
          "text": [
            "Plus => [[6 4 6]\n",
            " [2 4 6]]\n",
            "Mnius => [[-4  0  0]\n",
            " [ 0  0  0]]\n",
            "Mutiply => [[5 4 9]\n",
            " [1 4 9]]\n",
            "Div => [[1 0 0]\n",
            " [0 0 0]]\n"
          ]
        }
      ]
    }
  ]
}
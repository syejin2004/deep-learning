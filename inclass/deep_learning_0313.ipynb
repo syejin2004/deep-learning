{
  "nbformat": 4,
  "nbformat_minor": 0,
  "metadata": {
    "colab": {
      "provenance": [],
      "authorship_tag": "ABX9TyORp5TQnI5ZRBKcvKwJEx3l",
      "include_colab_link": true
    },
    "kernelspec": {
      "name": "python3",
      "display_name": "Python 3"
    },
    "language_info": {
      "name": "python"
    }
  },
  "cells": [
    {
      "cell_type": "markdown",
      "metadata": {
        "id": "view-in-github",
        "colab_type": "text"
      },
      "source": [
        "<a href=\"https://colab.research.google.com/github/syejin2004/deep-learning/blob/main/inclass/deep_learning_0313.ipynb\" target=\"_parent\"><img src=\"https://colab.research.google.com/assets/colab-badge.svg\" alt=\"Open In Colab\"/></a>"
      ]
    },
    {
      "cell_type": "markdown",
      "source": [
        "## 딥러닝 프로그래밍 실습"
      ],
      "metadata": {
        "id": "_RkRo-R4oCtf"
      }
    },
    {
      "cell_type": "markdown",
      "source": [
        "### 일차원 배열"
      ],
      "metadata": {
        "id": "AzAJbNc5owNS"
      }
    },
    {
      "cell_type": "code",
      "execution_count": 4,
      "metadata": {
        "colab": {
          "base_uri": "https://localhost:8080/"
        },
        "id": "dZmofYLpjbXF",
        "outputId": "52b4864c-18ef-4e8b-afd3-644093491818"
      },
      "outputs": [
        {
          "output_type": "stream",
          "name": "stdout",
          "text": [
            "[4 5 6]\n"
          ]
        }
      ],
      "source": [
        "import tensorflow.compat.v1 as tf\n",
        "tf.disable_v2_behavior()\n",
        "\n",
        "a = tf.placeholder(tf.int32, shape=[3])\n",
        "b = tf.Variable(3)\n",
        "c = tf.add(a,b)\n",
        "\n",
        "init = tf.global_variables_initializer()\n",
        "\n",
        "with tf.compat.v1.Session() as sess:\n",
        "  sess.run(init)\n",
        "  print(sess.run(c, {a: [1, 2, 3]}))"
      ]
    },
    {
      "cell_type": "markdown",
      "source": [
        "### 다차원 배열"
      ],
      "metadata": {
        "id": "SanvVr9IoyNZ"
      }
    },
    {
      "cell_type": "code",
      "source": [
        "import tensorflow.compat.v1 as tf\n",
        "tf.disable_v2_behavior()\n",
        "\n",
        "a = tf.placeholder(tf.int32)\n",
        "b = tf.placeholder(tf.int32)\n",
        "c = tf.multiply(a,b)\n",
        "\n",
        "init = tf.global_variables_initializer()\n",
        "\n",
        "with tf.compat.v1.Session() as sess:\n",
        "  sess.run(init)\n",
        "  print(sess.run(c, {a: [[1, 2, 3], [1, 2, 3]], b: [[5, 2, 3], [1, 2, 3]]}))"
      ],
      "metadata": {
        "colab": {
          "base_uri": "https://localhost:8080/"
        },
        "id": "vpkdwJE6qrQE",
        "outputId": "ec342e0b-3318-455b-f59d-cdeaa52594ba"
      },
      "execution_count": 13,
      "outputs": [
        {
          "output_type": "stream",
          "name": "stdout",
          "text": [
            "[[5 4 9]\n",
            " [1 4 9]]\n"
          ]
        }
      ]
    }
  ]
}